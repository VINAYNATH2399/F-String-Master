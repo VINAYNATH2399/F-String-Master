{
 "cells": [
  {
   "cell_type": "markdown",
   "id": "e4bce72b",
   "metadata": {},
   "source": [
    "Definition:- Also called “formatted string literals,” f-strings are string literals that have an f at the beginning\n",
    "    \n",
    "     and curly braces containing expressions that will be replaced with their values."
   ]
  },
  {
   "cell_type": "markdown",
   "id": "c3b5cc54",
   "metadata": {},
   "source": [
    "# Using f-strings"
   ]
  },
  {
   "cell_type": "code",
   "execution_count": 1,
   "id": "e9ab9e32",
   "metadata": {},
   "outputs": [
    {
     "name": "stdout",
     "output_type": "stream",
     "text": [
      "msg: Hello World\n"
     ]
    }
   ],
   "source": [
    "msg = \"Hello World\"\n",
    "print(f\"msg: {msg}\")"
   ]
  },
  {
   "cell_type": "markdown",
   "id": "5abd6fa1",
   "metadata": {},
   "source": [
    "# Using string.format"
   ]
  },
  {
   "cell_type": "code",
   "execution_count": 2,
   "id": "a6a901e8",
   "metadata": {},
   "outputs": [
    {
     "data": {
      "text/plain": [
       "'msg: Hello World'"
      ]
     },
     "execution_count": 2,
     "metadata": {},
     "output_type": "execute_result"
    }
   ],
   "source": [
    "msg = \"Hello World\"\n",
    "\"msg: {}\".format(msg)"
   ]
  },
  {
   "cell_type": "markdown",
   "id": "944d6ebd",
   "metadata": {},
   "source": [
    "# Basis string Formating with Python"
   ]
  },
  {
   "cell_type": "markdown",
   "id": "23f4da4b",
   "metadata": {},
   "source": [
    "f-string can also start with capital F and you can combine with raw strings. However,you cannot mix them with bytes \"b\" or \"u\"."
   ]
  },
  {
   "cell_type": "code",
   "execution_count": 3,
   "id": "b67448eb",
   "metadata": {},
   "outputs": [
    {
     "name": "stdout",
     "output_type": "stream",
     "text": [
      "The Book Python Crash Course has 524 pages\n"
     ]
    }
   ],
   "source": [
    "book = \"Python Crash Course\"\n",
    "page_num = 524\n",
    "print(f\"The Book {book} has {page_num} pages\")"
   ]
  },
  {
   "cell_type": "code",
   "execution_count": 4,
   "id": "d067369e",
   "metadata": {},
   "outputs": [
    {
     "data": {
      "text/plain": [
       "'The Book Python Crash Course has 524 pages'"
      ]
     },
     "execution_count": 4,
     "metadata": {},
     "output_type": "execute_result"
    }
   ],
   "source": [
    ">>> book = \"Python Crash Course\"\n",
    ">>> page_num = 524\n",
    ">>> f\"The Book {book} has {page_num} pages\""
   ]
  },
  {
   "cell_type": "code",
   "execution_count": 5,
   "id": "872789c4",
   "metadata": {},
   "outputs": [
    {
     "name": "stdout",
     "output_type": "stream",
     "text": [
      "The Book Python Crash Course has 524 pages\n",
      "The Book Python Crash Course has 524 pages\n",
      "The Book Python Crash Course has 524 pages\n",
      "The Book Python Crash Course has 524 pages\n"
     ]
    }
   ],
   "source": [
    "book = \"Python Crash Course\"\n",
    "page_num = 524\n",
    "print(f\"The Book {book} has {page_num} pages\")\n",
    "print(F\"The Book {book} has {page_num} pages\")\n",
    "print(Fr\"The Book {book} has {page_num} pages\")\n",
    "print(FR\"The Book {book} has {page_num} pages\")"
   ]
  },
  {
   "cell_type": "markdown",
   "id": "3457461f",
   "metadata": {},
   "source": [
    "# How to Format an Expression"
   ]
  },
  {
   "cell_type": "code",
   "execution_count": 6,
   "id": "f7c6b74b",
   "metadata": {},
   "outputs": [
    {
     "name": "stdout",
     "output_type": "stream",
     "text": [
      "The square of 6 is 36\n"
     ]
    }
   ],
   "source": [
    "num = 6\n",
    "print(f\"The square of {num} is {num**2}\")"
   ]
  },
  {
   "cell_type": "code",
   "execution_count": 7,
   "id": "d1bbc2e7",
   "metadata": {},
   "outputs": [
    {
     "data": {
      "text/plain": [
       "'The square of 6 is 36'"
      ]
     },
     "execution_count": 7,
     "metadata": {},
     "output_type": "execute_result"
    }
   ],
   "source": [
    ">>> num = 6\n",
    ">>> f\"The square of {num} is {num**2}\""
   ]
  },
  {
   "cell_type": "markdown",
   "id": "bf416c97",
   "metadata": {},
   "source": [
    "# How to use F-String to Debug Your Code"
   ]
  },
  {
   "cell_type": "code",
   "execution_count": 8,
   "id": "d4c3a8b4",
   "metadata": {},
   "outputs": [
    {
     "name": "stdout",
     "output_type": "stream",
     "text": [
      "magic_num() = 42\n"
     ]
    }
   ],
   "source": [
    "def magic_num():\n",
    "    return 42\n",
    "print(f\"{magic_num() = }\")"
   ]
  },
  {
   "cell_type": "code",
   "execution_count": 9,
   "id": "d5c48387",
   "metadata": {},
   "outputs": [
    {
     "data": {
      "text/plain": [
       "'magic_num() = 42'"
      ]
     },
     "execution_count": 9,
     "metadata": {},
     "output_type": "execute_result"
    }
   ],
   "source": [
    ">>> def magic_num():\n",
    "    return 42\n",
    ">>> f\"{magic_num() = }\""
   ]
  },
  {
   "cell_type": "markdown",
   "id": "55af44e8",
   "metadata": {},
   "source": [
    "# How to Set Float Number Precision in a F-String"
   ]
  },
  {
   "cell_type": "code",
   "execution_count": 10,
   "id": "3e01ae2f",
   "metadata": {},
   "outputs": [
    {
     "name": "stdout",
     "output_type": "stream",
     "text": [
      "num rounded to 2 decimal places = 4.123456\n",
      "--------------------------------------------\n",
      "num rounded to 2 decimal places = 4.1\n",
      "num rounded to 2 decimal places = 4.12\n",
      "num rounded to 2 decimal places = 4.123\n",
      "num rounded to 2 decimal places = 4.1235\n",
      "num rounded to 2 decimal places = 4.12346\n",
      "num rounded to 2 decimal places = 4.123456\n"
     ]
    }
   ],
   "source": [
    "num = 4.123456\n",
    "print(f\"num rounded to 2 decimal places = {num}\")\n",
    "print(\"--------------------------------------------\")\n",
    "print(f\"num rounded to 2 decimal places = {num:.1f}\")\n",
    "print(f\"num rounded to 2 decimal places = {num:.2f}\")\n",
    "print(f\"num rounded to 2 decimal places = {num:.3f}\")\n",
    "print(f\"num rounded to 2 decimal places = {num:.4f}\")\n",
    "print(f\"num rounded to 2 decimal places = {num:.5f}\")\n",
    "print(f\"num rounded to 2 decimal places = {num:.6f}\")"
   ]
  },
  {
   "cell_type": "markdown",
   "id": "a38edba6",
   "metadata": {},
   "source": [
    "# How to Format Integers in Different Bases"
   ]
  },
  {
   "cell_type": "code",
   "execution_count": 11,
   "id": "8864f47d",
   "metadata": {},
   "outputs": [
    {
     "name": "stdout",
     "output_type": "stream",
     "text": [
      " 1010    12     a     A    10 \n",
      " 1011    13     b     B    11 \n",
      " 1100    14     c     C    12 \n",
      " 1101    15     d     D    13 \n",
      " 1110    16     e     E    14 \n"
     ]
    }
   ],
   "source": [
    "bases = {\n",
    "    \"b\": \"bin\",\n",
    "    \"o\": \"oct\", \"x\": \"hex\",\n",
    "    \"X\": \"HEX\", \"d\": \"decimal\"\n",
    "}\n",
    "for n in range(10,15):\n",
    "    for base,desc in bases.items():\n",
    "        print(f\"{n:5{base}}\",end=\" \")\n",
    "    print()    "
   ]
  },
  {
   "cell_type": "code",
   "execution_count": 15,
   "id": "dc05eefa",
   "metadata": {},
   "outputs": [
    {
     "name": "stdout",
     "output_type": "stream",
     "text": [
      "11011    33    1b    1B    27 \n"
     ]
    }
   ],
   "source": [
    "n = 27\n",
    "bases = {\n",
    "    \"b\": \"bin\",\n",
    "    \"o\": \"oct\", \"x\": \"hex\",\n",
    "    \"X\": \"HEX\", \"d\": \"decimal\"\n",
    "}\n",
    "\n",
    "for base,desc in bases.items():\n",
    "    print(f\"{n:5{base}}\",end=\" \")\n",
    "print()    "
   ]
  },
  {
   "cell_type": "markdown",
   "id": "2d30946d",
   "metadata": {},
   "source": [
    "# How to Format a Numbwer as Percentage"
   ]
  },
  {
   "cell_type": "code",
   "execution_count": 16,
   "id": "55b4042f",
   "metadata": {},
   "outputs": [
    {
     "name": "stdout",
     "output_type": "stream",
     "text": [
      "2.5588235294117645\n",
      "--------------------------------------\n",
      "Percentage of true positive: 255.882353%\n",
      "Percentage of true positive: 255.88%\n"
     ]
    }
   ],
   "source": [
    "perc = 87 / 34\n",
    "print(perc)\n",
    "print(\"--------------------------------------\")\n",
    "print(f\"Percentage of true positive: {perc:%}\")\n",
    "print(f\"Percentage of true positive: {perc:.2%}\")"
   ]
  },
  {
   "cell_type": "markdown",
   "id": "d09d46ed",
   "metadata": {},
   "source": [
    "# How to Justify or Add Padding to a F-String"
   ]
  },
  {
   "cell_type": "code",
   "execution_count": 17,
   "id": "28ecddad",
   "metadata": {},
   "outputs": [
    {
     "name": "stdout",
     "output_type": "stream",
     "text": [
      "She says      Hello\n",
      "----------------------------\n",
      "     Hello\n"
     ]
    }
   ],
   "source": [
    "greetings = \"Hello\"\n",
    "print(f\"She says {greetings:>10}\")\n",
    "print(\"----------------------------\")\n",
    "print(f\"{greetings:>10}\")"
   ]
  },
  {
   "cell_type": "code",
   "execution_count": 18,
   "id": "85091afb",
   "metadata": {},
   "outputs": [
    {
     "name": "stdout",
     "output_type": "stream",
     "text": [
      "She says                Hello\n",
      "----------------------------\n",
      "                    Hello\n"
     ]
    }
   ],
   "source": [
    "greetings = \"Hello\"\n",
    "print(f\"She says {greetings:>20}\")\n",
    "print(\"----------------------------\")\n",
    "print(f\"{greetings:>25}\")"
   ]
  },
  {
   "cell_type": "markdown",
   "id": "f8bb81cd",
   "metadata": {},
   "source": [
    "# How to center a String"
   ]
  },
  {
   "cell_type": "code",
   "execution_count": 19,
   "id": "ab33fd58",
   "metadata": {},
   "outputs": [
    {
     "name": "stdout",
     "output_type": "stream",
     "text": [
      "She says   Hello   \n",
      "----------------------------\n",
      "***Hello***\n"
     ]
    }
   ],
   "source": [
    "greetings = \"Hello\"\n",
    "print(f\"She says {greetings:^10}\")\n",
    "print(\"----------------------------\")\n",
    "print(f\"{greetings:*^11}\")"
   ]
  },
  {
   "cell_type": "markdown",
   "id": "c6bd3d4b",
   "metadata": {},
   "source": [
    "# How to Add a Thousand Separator"
   ]
  },
  {
   "cell_type": "markdown",
   "id": "bc417e59",
   "metadata": {},
   "source": [
    "syntax:- >>>f \"{number:sep}\""
   ]
  },
  {
   "cell_type": "code",
   "execution_count": 20,
   "id": "a1aa4c47",
   "metadata": {},
   "outputs": [
    {
     "name": "stdout",
     "output_type": "stream",
     "text": [
      "1,234,567,890\n"
     ]
    }
   ],
   "source": [
    "big_num = 1234567890\n",
    "print(f\"{big_num:,}\")"
   ]
  },
  {
   "cell_type": "markdown",
   "id": "ffa60bd8",
   "metadata": {},
   "source": [
    "# How to Format a Number With Spaces as Decimal Separator"
   ]
  },
  {
   "cell_type": "code",
   "execution_count": 22,
   "id": "34dfb458",
   "metadata": {},
   "outputs": [
    {
     "name": "stdout",
     "output_type": "stream",
     "text": [
      "1 234 567 890\n"
     ]
    }
   ],
   "source": [
    "big_num = 1234567890\n",
    "print(f\"{big_num:,}\".replace(\",\",\" \"))"
   ]
  },
  {
   "cell_type": "code",
   "execution_count": 23,
   "id": "da34da02",
   "metadata": {},
   "outputs": [
    {
     "name": "stdout",
     "output_type": "stream",
     "text": [
      "2.343553e+06\n"
     ]
    }
   ],
   "source": [
    "num = 2343552.6516251625\n",
    "print(f\"{num:e}\")"
   ]
  },
  {
   "cell_type": "code",
   "execution_count": 24,
   "id": "07f041d1",
   "metadata": {},
   "outputs": [
    {
     "name": "stdout",
     "output_type": "stream",
     "text": [
      "2.343553E+06\n",
      "-------------------\n",
      "2.34e+06\n",
      "-------------------\n",
      "2.3436E+06\n"
     ]
    }
   ],
   "source": [
    "num = 2343552.6516251625\n",
    "print(f\"{num:E}\")\n",
    "print(\"-------------------\")\n",
    "print(f\"{num:.2e}\")\n",
    "print(\"-------------------\")\n",
    "print(f\"{num:.4E}\")"
   ]
  },
  {
   "cell_type": "markdown",
   "id": "157bf3a3",
   "metadata": {},
   "source": [
    "# Using if-else Conditional in a F-String"
   ]
  },
  {
   "cell_type": "code",
   "execution_count": 28,
   "id": "ded58ff4",
   "metadata": {},
   "outputs": [
    {
     "name": "stdout",
     "output_type": "stream",
     "text": [
      "This is a\n",
      "-------------------------------\n",
      "This is b\n"
     ]
    }
   ],
   "source": [
    "print(f\"{'This is a' if 10 > 5 else b}\")\n",
    "print(\"-------------------------------\")\n",
    "print(f\"{'This is b' if 10 > 5 else a}\")"
   ]
  },
  {
   "cell_type": "markdown",
   "id": "ae39a104",
   "metadata": {},
   "source": [
    "# How to Use F-String With a Dictionary"
   ]
  },
  {
   "cell_type": "code",
   "execution_count": 29,
   "id": "5c2df546",
   "metadata": {},
   "outputs": [
    {
     "name": "stdout",
     "output_type": "stream",
     "text": [
      "123\n",
      "*********************\n",
      "123\n",
      "*********************\n",
      "RGB = (123, 145, 255)\n"
     ]
    }
   ],
   "source": [
    "color = {\"R\":123,\"G\":145,\"B\":255}\n",
    "print(f\"{color['R']}\")\n",
    "print(\"*********************\")\n",
    "print(f'{color[\"R\"]}')\n",
    "print(\"*********************\")\n",
    "print(f\"RGB = ({color['R']}, {color['G']}, {color['B']})\")"
   ]
  },
  {
   "cell_type": "markdown",
   "id": "60e65945",
   "metadata": {},
   "source": [
    "# How to Format datetime Objects"
   ]
  },
  {
   "cell_type": "code",
   "execution_count": 30,
   "id": "247a4f7f",
   "metadata": {},
   "outputs": [
    {
     "name": "stdout",
     "output_type": "stream",
     "text": [
      "2022-04-18  12-45-47\n",
      "2022-04-28  12-45-47\n"
     ]
    }
   ],
   "source": [
    "import datetime\n",
    "now = datetime.datetime.now()\n",
    "ten_days_ago = now - datetime.timedelta(days=10)\n",
    "print(f\"{ten_days_ago:%Y-%m-%d  %H-%M-%S}\")\n",
    "print(f\"{now:%Y-%m-%d  %H-%M-%S}\")"
   ]
  },
  {
   "cell_type": "code",
   "execution_count": 31,
   "id": "6c3e874e",
   "metadata": {},
   "outputs": [
    {
     "name": "stdout",
     "output_type": "stream",
     "text": [
      "2022-04-08  12-46-59\n",
      "2022-04-28  12-46-59\n"
     ]
    }
   ],
   "source": [
    "import datetime\n",
    "now = datetime.datetime.now()\n",
    "ten_days_ago = now - datetime.timedelta(days=20)\n",
    "print(f\"{ten_days_ago:%Y-%m-%d  %H-%M-%S}\")\n",
    "print(f\"{now:%Y-%m-%d  %H-%M-%S}\")"
   ]
  },
  {
   "cell_type": "code",
   "execution_count": null,
   "id": "282709b2",
   "metadata": {},
   "outputs": [],
   "source": []
  }
 ],
 "metadata": {
  "kernelspec": {
   "display_name": "Python 3 (ipykernel)",
   "language": "python",
   "name": "python3"
  },
  "language_info": {
   "codemirror_mode": {
    "name": "ipython",
    "version": 3
   },
   "file_extension": ".py",
   "mimetype": "text/x-python",
   "name": "python",
   "nbconvert_exporter": "python",
   "pygments_lexer": "ipython3",
   "version": "3.10.3"
  }
 },
 "nbformat": 4,
 "nbformat_minor": 5
}
